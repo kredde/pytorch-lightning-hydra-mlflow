{
 "metadata": {
  "language_info": {
   "codemirror_mode": {
    "name": "ipython",
    "version": 3
   },
   "file_extension": ".py",
   "mimetype": "text/x-python",
   "name": "python",
   "nbconvert_exporter": "python",
   "pygments_lexer": "ipython3",
   "version": "3.9.2"
  },
  "orig_nbformat": 2,
  "kernelspec": {
   "name": "python392jvsc74a57bd03503e998b5c3fd447f3e41d7b6c27225a8aa2bff77cd3ce83957dd0c73daee22",
   "display_name": "Python 3.9.2 64-bit ('thesis': conda)"
  },
  "metadata": {
   "interpreter": {
    "hash": "3503e998b5c3fd447f3e41d7b6c27225a8aa2bff77cd3ce83957dd0c73daee22"
   }
  }
 },
 "nbformat": 4,
 "nbformat_minor": 2,
 "cells": [
  {
   "cell_type": "code",
   "execution_count": null,
   "metadata": {},
   "outputs": [],
   "source": []
  }
 ]
}